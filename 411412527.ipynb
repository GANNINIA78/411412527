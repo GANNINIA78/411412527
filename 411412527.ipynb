{
 "cells": [
  {
   "cell_type": "code",
   "execution_count": 15,
   "id": "20796d2d-7444-486e-9e69-ff19c29f3976",
   "metadata": {},
   "outputs": [
    {
     "name": "stdout",
     "output_type": "stream",
     "text": [
      "Processing c:\\users\\eric8\\anaconda3\\scripts\\ta_lib-0.6.3-cp312-cp312-win_amd64.whl\n",
      "Requirement already satisfied: setuptools in c:\\users\\eric8\\anaconda3\\lib\\site-packages (from ta-lib==0.6.3) (75.1.0)\n",
      "Requirement already satisfied: numpy in c:\\users\\eric8\\anaconda3\\lib\\site-packages (from ta-lib==0.6.3) (1.26.4)\n",
      "Installing collected packages: ta-lib\n",
      "Successfully installed ta-lib-0.6.3\n"
     ]
    }
   ],
   "source": [
    "!pip install \"C:\\Users\\eric8\\anaconda3\\Scripts\\ta_lib-0.6.3-cp312-cp312-win_amd64.whl\""
   ]
  },
  {
   "cell_type": "code",
   "execution_count": 17,
   "id": "dba5c54f-bd96-4864-8152-38d8ce155f7c",
   "metadata": {},
   "outputs": [
    {
     "name": "stdout",
     "output_type": "stream",
     "text": [
      "Requirement already satisfied: ta-lib in c:\\users\\eric8\\anaconda3\\lib\\site-packages (0.6.3)\n",
      "Requirement already satisfied: setuptools in c:\\users\\eric8\\anaconda3\\lib\\site-packages (from ta-lib) (75.1.0)\n",
      "Requirement already satisfied: numpy in c:\\users\\eric8\\anaconda3\\lib\\site-packages (from ta-lib) (1.26.4)\n"
     ]
    }
   ],
   "source": [
    "!pip install ta-lib"
   ]
  },
  {
   "cell_type": "code",
   "execution_count": 21,
   "id": "c2fda94b-8656-43a7-b7c7-2f422d3f5110",
   "metadata": {},
   "outputs": [],
   "source": [
    "import talib"
   ]
  },
  {
   "cell_type": "code",
   "execution_count": null,
   "id": "a9e12084-8fc7-4258-995d-4af112a9c119",
   "metadata": {},
   "outputs": [],
   "source": []
  }
 ],
 "metadata": {
  "kernelspec": {
   "display_name": "Python [conda env:base] *",
   "language": "python",
   "name": "conda-base-py"
  },
  "language_info": {
   "codemirror_mode": {
    "name": "ipython",
    "version": 3
   },
   "file_extension": ".py",
   "mimetype": "text/x-python",
   "name": "python",
   "nbconvert_exporter": "python",
   "pygments_lexer": "ipython3",
   "version": "3.12.7"
  }
 },
 "nbformat": 4,
 "nbformat_minor": 5
}
