{
 "cells": [
  {
   "cell_type": "code",
   "execution_count": 2,
   "id": "8a3c6ac8-f621-4e47-bef9-aa81e4e622e6",
   "metadata": {},
   "outputs": [
    {
     "name": "stdout",
     "output_type": "stream",
     "text": [
      "                                 Open        High         Low       Close  \\\n",
      "Date                                                                        \n",
      "2024-04-18 00:00:00+08:00  785.752647  799.572417  781.804141  793.649658   \n",
      "2024-04-19 00:00:00+08:00  759.100251  760.087378  736.396343  740.344849   \n",
      "2024-04-22 00:00:00+08:00  730.473623  747.254774  730.473623  732.447876   \n",
      "2024-04-23 00:00:00+08:00  751.203220  751.203220  742.319082  744.293335   \n",
      "2024-04-24 00:00:00+08:00  760.087400  774.894297  759.100273  772.920044   \n",
      "\n",
      "                              Volume  Dividends  Stock Splits  \n",
      "Date                                                           \n",
      "2024-04-18 00:00:00+08:00   43598591        0.0           0.0  \n",
      "2024-04-19 00:00:00+08:00  130968654        0.0           0.0  \n",
      "2024-04-22 00:00:00+08:00   46540798        0.0           0.0  \n",
      "2024-04-23 00:00:00+08:00   30423647        0.0           0.0  \n",
      "2024-04-24 00:00:00+08:00   39457128        0.0           0.0  \n"
     ]
    }
   ],
   "source": [
    "import yfinance as yf\n",
    "\n",
    "stock = yf.Ticker(\"2330.TW\")\n",
    "\n",
    "df = stock.history(period=\"1y\")\n",
    "\n",
    "print(df.head())"
   ]
  },
  {
   "cell_type": "code",
   "execution_count": null,
   "id": "49f0ff03-5be5-431c-87ae-e466d0299e1f",
   "metadata": {},
   "outputs": [],
   "source": []
  }
 ],
 "metadata": {
  "kernelspec": {
   "display_name": "Python [conda env:base] *",
   "language": "python",
   "name": "conda-base-py"
  },
  "language_info": {
   "codemirror_mode": {
    "name": "ipython",
    "version": 3
   },
   "file_extension": ".py",
   "mimetype": "text/x-python",
   "name": "python",
   "nbconvert_exporter": "python",
   "pygments_lexer": "ipython3",
   "version": "3.12.7"
  }
 },
 "nbformat": 4,
 "nbformat_minor": 5
}
